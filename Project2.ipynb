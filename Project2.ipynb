{
 "cells": [
  {
   "attachments": {},
   "cell_type": "markdown",
   "metadata": {
    "ein.tags": "worksheet-0",
    "slideshow": {
     "slide_type": "-"
    }
   },
   "source": [
    "Team ranking"
   ]
  },
  {
   "cell_type": "code",
   "execution_count": 50,
   "metadata": {
    "autoscroll": false,
    "ein.hycell": false,
    "ein.tags": "worksheet-0",
    "slideshow": {
     "slide_type": "-"
    }
   },
   "outputs": [
    {
     "data": {
      "text/plain": [
       "sort_by_ranking (generic function with 1 method)"
      ]
     },
     "execution_count": 50,
     "metadata": {},
     "output_type": "execute_result"
    }
   ],
   "source": [
    "using LinearAlgebra, DelimitedFiles\n",
    "A = readdlm(\"games.csv\", ',', Float32);\n",
    "teams = readdlm(\"teams.csv\", ',');\n",
    "\n",
    "# This function takes in a vector containing ranking for each team, and\n",
    "# output the names of the top k teams sorted by ranking\n",
    "function sort_by_ranking(rankings; k=10)\n",
    "    @assert length(rankings) == length(teams)\n",
    "            \"$(length(rankings)) rankings != $(length(teams)) teams\"\n",
    "    indices = sort(1:length(rankings), by = i -> -rankings[i])\n",
    "    return collect(Iterators.take(zip(rankings[indices], teams[indices]), k))\n",
    "end"
   ]
  },
  {
   "cell_type": "code",
   "execution_count": 51,
   "metadata": {
    "autoscroll": false,
    "ein.hycell": false,
    "ein.tags": "worksheet-0",
    "slideshow": {
     "slide_type": "-"
    }
   },
   "outputs": [
    {
     "data": {
      "text/plain": [
       "get_Q (generic function with 1 method)"
      ]
     },
     "execution_count": 51,
     "metadata": {},
     "output_type": "execute_result"
    }
   ],
   "source": [
    "### Your Code Here ###\n",
    "function get_Q(A)\n",
    "    m,n = size(A)\n",
    "    Q = zeros(m,n) \n",
    "    for i in 1:m\n",
    "        games_between = sum(A[i,:]) + sum(A[:,i])\n",
    "        Q[i,:] = A[i,:]/games_between\n",
    "    end\n",
    "    return Q\n",
    "end \n"
   ]
  },
  {
   "cell_type": "code",
   "execution_count": 52,
   "metadata": {},
   "outputs": [
    {
     "data": {
      "text/plain": [
       "get_r (generic function with 1 method)"
      ]
     },
     "execution_count": 52,
     "metadata": {},
     "output_type": "execute_result"
    }
   ],
   "source": [
    "function get_r(Q)\n",
    "    epsilon = 0.0000001\n",
    "    m,n = size(Q)\n",
    "    x = randn(m)\n",
    "    y = normalize(Q*x)\n",
    "    while norm(x-y) > epsilon\n",
    "        x = y\n",
    "        y = normalize(Q*x)\n",
    "    end\n",
    "    \n",
    "    if all(>=(0), y)\n",
    "        return y\n",
    "    else\n",
    "        return -y\n",
    "    end\n",
    "end\n"
   ]
  },
  {
   "cell_type": "code",
   "execution_count": 53,
   "metadata": {},
   "outputs": [
    {
     "data": {
      "text/plain": [
       "20-element Vector{Tuple{Float64, Any}}:\n",
       " (0.3279345798756423, \"Oregon\")\n",
       " (0.27951078380278693, \"Utah\")\n",
       " (0.260914800473046, \"USC\")\n",
       " (0.21394427326687412, \"Notre Dame\")\n",
       " (0.19026288436076416, \"Oklahoma\")\n",
       " (0.18899579232966382, \"Washington\")\n",
       " (0.18339001823664805, \"Ohio State\")\n",
       " (0.17716603597901634, \"Arizona State\")\n",
       " (0.17462394066514544, \"LSU\")\n",
       " (0.17232156096221055, \"Georgia\")\n",
       " (0.16647928402408407, \"Clemson\")\n",
       " (0.1337867942708281, \"Florida\")\n",
       " (0.12988602403779168, \"California\")\n",
       " (0.12979347337466002, \"Auburn\")\n",
       " (0.12794743449848664, \"Colorado\")\n",
       " (0.12707202968968243, \"Oregon State\")\n",
       " (0.12679626072394823, \"Baylor\")\n",
       " (0.12510219129574476, \"UCLA\")\n",
       " (0.11984079373712006, \"BYU\")\n",
       " (0.11896709901195109, \"The Citadel\")"
      ]
     },
     "metadata": {},
     "output_type": "display_data"
    }
   ],
   "source": [
    "display(sort_by_ranking(get_r(get_Q(A)); k=20))"
   ]
  }
 ],
 "metadata": {
  "kernelspec": {
   "display_name": "Julia 1.8.1",
   "language": "julia",
   "name": "julia-1.8"
  },
  "language_info": {
   "file_extension": ".jl",
   "mimetype": "application/julia",
   "name": "julia",
   "version": "1.8.1"
  },
  "name": "project2_sol.ipynb"
 },
 "nbformat": 4,
 "nbformat_minor": 4
}
